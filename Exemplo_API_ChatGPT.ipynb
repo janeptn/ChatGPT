{
  "nbformat": 4,
  "nbformat_minor": 0,
  "metadata": {
    "colab": {
      "provenance": []
    },
    "kernelspec": {
      "name": "python3",
      "display_name": "Python 3"
    },
    "language_info": {
      "name": "python"
    }
  },
  "cells": [
    {
      "cell_type": "markdown",
      "source": [
        "### Sobre"
      ],
      "metadata": {
        "id": "iCAAP9aaOWLn"
      }
    },
    {
      "cell_type": "markdown",
      "source": [
        "*Esse código é um exemplo de como usar um chatbot que usa a plataforma OpenAI para gerar respostas para perguntas feitas pelo usuário. Para usar esse chatbot, você precisa primeiro criar uma conta no OpenAI e gerar uma chave de API.*"
      ],
      "metadata": {
        "id": "p32-xaseObGM"
      }
    },
    {
      "cell_type": "markdown",
      "source": [
        "### Criando uma conta na OpenAI (API)"
      ],
      "metadata": {
        "id": "irFrErvm8nWe"
      }
    },
    {
      "cell_type": "markdown",
      "source": [
        "*   Acesse o site da OpenAI (https://platform.openai.com/signup) e crie uma conta;\n",
        "*   Quando você se registra a plataforma fornece créditos gratuitos para testar as APIs (*atualmente* $18.00)\n",
        "*   Você pode consultar seus créditos em Manage account (https://platform.openai.com/account/usage)\n",
        "*   Acesse e gerencie sua API keys em (https://platform.openai.com/account/api-keys). \n",
        "*  `⚠️ Não compartilhe sua API key com outras pessoas ou exponha-a no navegador ou no código`. \n",
        "\n",
        "\n",
        "\n",
        "\n",
        "\n",
        "\n",
        "\n",
        "\n"
      ],
      "metadata": {
        "id": "VUqUPCB984Cf"
      }
    },
    {
      "cell_type": "markdown",
      "source": [
        "###Explorando a nova API ChatGPT da OpenAI\n",
        "\n"
      ],
      "metadata": {
        "id": "3temXw3T71gK"
      }
    },
    {
      "cell_type": "code",
      "execution_count": null,
      "metadata": {
        "colab": {
          "base_uri": "https://localhost:8080/"
        },
        "id": "uWr92UbU70TT",
        "outputId": "29100667-f576-437b-9cb6-cc73509c4870"
      },
      "outputs": [
        {
          "output_type": "stream",
          "name": "stdout",
          "text": [
            "\u001b[?25l     \u001b[90m━━━━━━━━━━━━━━━━━━━━━━━━━━━━━━━━━━━━━━━━\u001b[0m \u001b[32m0.0/70.1 KB\u001b[0m \u001b[31m?\u001b[0m eta \u001b[36m-:--:--\u001b[0m\r\u001b[2K     \u001b[90m━━━━━━━━━━━━━━━━━━━━━━━━━━━━━━━━━━━━━━━━\u001b[0m \u001b[32m70.1/70.1 KB\u001b[0m \u001b[31m2.0 MB/s\u001b[0m eta \u001b[36m0:00:00\u001b[0m\n",
            "\u001b[?25h"
          ]
        }
      ],
      "source": [
        "# Instala a biblioteca OpenAI\n",
        "\n",
        "!pip install -q openai "
      ]
    },
    {
      "cell_type": "code",
      "source": [
        "# Importa a biblioteca OpenAI\n",
        "\n",
        "import openai"
      ],
      "metadata": {
        "id": "O3cK_m-V8D-u"
      },
      "execution_count": null,
      "outputs": []
    },
    {
      "cell_type": "code",
      "source": [
        "# Informe sua API key (não exponha essa informação)\n",
        "\n",
        "openai.api_key = 'sua api key'  "
      ],
      "metadata": {
        "id": "vAA33_6tC24M"
      },
      "execution_count": null,
      "outputs": []
    },
    {
      "cell_type": "markdown",
      "source": [
        "### Executando o Chat - Interações de Diálogo"
      ],
      "metadata": {
        "id": "mOTp5ts_Itkv"
      }
    },
    {
      "cell_type": "markdown",
      "source": [
        "A lista abaixo armazena as mensagens do chatbot, sendo inicializada com o papel (\"role\": \"system\"), em (\"content\": \"gentil e prestativo\") definimos o comportamento do assistente 🥰\n",
        "\n",
        "Incluir o histórico de conversas ajuda quando as instruções do usuário se referem a mensagens anteriores"
      ],
      "metadata": {
        "id": "GpQVf-d3UXxD"
      }
    },
    {
      "cell_type": "code",
      "source": [
        "messages = [{\"role\": \"system\", \"content\": \"Você é um assistente gentil e prestativo\"}]  "
      ],
      "metadata": {
        "id": "PbqZ6LvWCDH1"
      },
      "execution_count": null,
      "outputs": []
    },
    {
      "cell_type": "markdown",
      "source": [
        "Executa o chatbot que utiliza o modelo \"gpt-3.5-turbo\" para gerar respostas para as perguntas do usuário\n"
      ],
      "metadata": {
        "id": "jyfAbeu6U5T8"
      }
    },
    {
      "cell_type": "code",
      "source": [
        "print('Digite sua pergunta ou \"Parar\" para encerrar o ChatGPT \\n')\n",
        "\n",
        "while True:\n",
        "    message = input(\"Usuário: \")\n",
        "    if message:\n",
        "        if message.lower() in [\"parar\", \"sair\"]:\n",
        "            print(\"\\n Foi um prazer te ajudar. Até logo!\")\n",
        "            break\n",
        "        messages.append({\"role\": \"user\", \"content\": message},)\n",
        "        try:\n",
        "            # Executa o chatbot usando o modelo \"gpt-3.5-turbo\" e a lista de mensagens\n",
        "            chat = openai.ChatCompletion.create(model=\"gpt-3.5-turbo\", messages=messages)\n",
        "            # Obtém a resposta do chatbot\n",
        "            reply = chat.choices[0].message.content\n",
        "            # Exibe a resposta para o usuário\n",
        "            print(f\"ChatGPT: {reply}\")\n",
        "            # Adiciona a resposta do chatbot à lista de mensagens\n",
        "            messages.append({\"role\": \"assistant\", \"content\": reply})\n",
        "        except Exception as e:\n",
        "            print(\"Houve um erro ao conversar com o assistente virtual:\", e)"
      ],
      "metadata": {
        "colab": {
          "base_uri": "https://localhost:8080/"
        },
        "id": "AkSaUQ0fCJO8",
        "outputId": "ee6ff093-aa11-4a4a-c962-6f27ccf9382d"
      },
      "execution_count": null,
      "outputs": [
        {
          "output_type": "stream",
          "name": "stdout",
          "text": [
            "Digite sua pergunta ou \"Parar\" para encerrar o ChatGPT \n",
            "\n",
            "Usuário: quem é Stitch?\n",
            "ChatGPT: Stitch é o personagem principal do filme \"Lilo & Stitch\" da Disney. Ele foi criado em um laboratório alienígena como resultado de um experimento genético ilegal, projetado para ser uma arma de destruição em massa. Ele é geneticamente modificado para ter força incrível, agilidade e outras habilidades especiais, tornando-o uma ameaça para aqueles que o criaram. Stitch escapa do laboratório e acaba em um planeta distante, onde é banido para a Terra como um experimento fracassado. Quando ele chega no Havaí, conhece Lilo, uma menina que o adota como se fosse um cachorro. Juntos, Lilo e Stitch embarcam em várias aventuras enquanto lutam para manter Stitch longe dos experimentos do Dr. Jumba e sua assistente, Pleakley, e se aproximam cada vez mais como família. Stitch é frequentemente descrito como uma mistura de várias criaturas, incluindo animais domésticos e selvagens, e sua força física e personalidade excêntrica o tornaram um personagem popular entre os fãs da Disney.\n",
            "Usuário: Ele é um cachorro?\n",
            "ChatGPT: Embora Stitch tenha a aparência de um cachorro, ele não é realmente um cachorro. Ele é um experimento genético criado por uma cientista alienígena e é classificado como um ser alienígena. Stitch é frequentemente descrito como uma mistura de várias criaturas, incluindo cães, gatos e até tubarões, além de ter habilidades e características únicas como superforça, agilidade e inúmeras outras habilidades especiais. Mas, apesar dessas diferenças, o comportamento de Stitch é muitas vezes semelhante ao de um cão, o que pode levar algumas pessoas a confundi-lo com um cachorro.\n",
            "Usuário: Qual a cor dele?\n",
            "ChatGPT: Stitch é geralmente conhecido por sua pelagem azul-esverdeada, que é uma das suas características mais marcantes. No entanto, sua pelagem pode parecer ligeiramente diferente em diferentes mídias e situações. Por exemplo, na sequência do filme original \"Stitch! The Movie\", Stitch é visto mudando de cor quando desobedece uma ordem, assumindo uma aparência avermelhada ou verde dependendo da cena. Mas em geral, a cor tradicional do personagem é essa tonalidade azul com um tom esverdeado.\n",
            "Usuário: parar\n",
            "\n",
            " Foi um prazer te ajudar. Até logo!\n"
          ]
        }
      ]
    }
  ]
}